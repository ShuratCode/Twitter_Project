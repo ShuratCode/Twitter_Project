{
 "cells": [
  {
   "cell_type": "code",
   "execution_count": 3,
   "metadata": {},
   "outputs": [],
   "source": [
    "%matplotlib inline"
   ]
  },
  {
   "cell_type": "markdown",
   "metadata": {},
   "source": [
    "# Twitter Gender Classification"
   ]
  },
  {
   "cell_type": "markdown",
   "metadata": {},
   "source": [
    "This notebook will show our final project. We will use a DB to build a classification model for tweets. The model will classify the tweet writer by gender."
   ]
  },
  {
   "cell_type": "markdown",
   "metadata": {},
   "source": [
    "## Submitted by: Shaked Eyal 201605870 && Tomer Shahar 302223979"
   ]
  },
  {
   "cell_type": "markdown",
   "metadata": {},
   "source": [
    "### Data Presentation - Part 1"
   ]
  },
  {
   "cell_type": "markdown",
   "metadata": {},
   "source": [
    "In this section we will analyze the DB like class distribution and frequent terms."
   ]
  },
  {
   "cell_type": "code",
   "execution_count": 4,
   "metadata": {},
   "outputs": [],
   "source": [
    "import warnings\n",
    "from DataPresentation import DataPresentation\n",
    "\n",
    "warnings.filterwarnings('ignore')"
   ]
  },
  {
   "cell_type": "code",
   "execution_count": 5,
   "metadata": {},
   "outputs": [
    {
     "data": {
      "image/png": "[encoded data removed]",
      "text/plain": [
       "<Figure size 432x288 with 1 Axes>"
      ]
     },
     "metadata": {
      "needs_background": "light"
     },
     "output_type": "display_data"
    }
   ],
   "source": [
    "dp = DataPresentation()\n",
    "data = dp.read_csv()"
   ]
  },
  {
   "cell_type": "markdown",
   "metadata": {},
   "source": [
    "As we can see, most of the tweets are from females, after that the male tweeters and lastly brands. Also we can see that we have an Unknown gender that we need to clean up."
   ]
  },
  {
   "cell_type": "code",
   "execution_count": 6,
   "metadata": {},
   "outputs": [
    {
     "data": {
      "text/html": [
       "<div>\n",
       "<style scoped>\n",
       "    .dataframe tbody tr th:only-of-type {\n",
       "        vertical-align: middle;\n",
       "    }\n",
       "\n",
       "    .dataframe tbody tr th {\n",
       "        vertical-align: top;\n",
       "    }\n",
       "\n",
       "    .dataframe thead th {\n",
       "        text-align: right;\n",
       "    }\n",
       "</style>\n",
       "<table border=\"1\" class=\"dataframe\">\n",
       "  <thead>\n",
       "    <tr style=\"text-align: right;\">\n",
       "      <th></th>\n",
       "      <th>_unit_id</th>\n",
       "      <th>_golden</th>\n",
       "      <th>_unit_state</th>\n",
       "      <th>_trusted_judgments</th>\n",
       "      <th>_last_judgment_at</th>\n",
       "      <th>gender</th>\n",
       "      <th>gender:confidence</th>\n",
       "      <th>profile_yn</th>\n",
       "      <th>profile_yn:confidence</th>\n",
       "      <th>created</th>\n",
       "      <th>...</th>\n",
       "      <th>profileimage</th>\n",
       "      <th>retweet_count</th>\n",
       "      <th>sidebar_color</th>\n",
       "      <th>text</th>\n",
       "      <th>tweet_coord</th>\n",
       "      <th>tweet_count</th>\n",
       "      <th>tweet_created</th>\n",
       "      <th>tweet_id</th>\n",
       "      <th>tweet_location</th>\n",
       "      <th>user_timezone</th>\n",
       "    </tr>\n",
       "  </thead>\n",
       "  <tbody>\n",
       "    <tr>\n",
       "      <th>0</th>\n",
       "      <td>815719226</td>\n",
       "      <td>False</td>\n",
       "      <td>finalized</td>\n",
       "      <td>3</td>\n",
       "      <td>10/26/15 23:24</td>\n",
       "      <td>male</td>\n",
       "      <td>1.0000</td>\n",
       "      <td>yes</td>\n",
       "      <td>1.0</td>\n",
       "      <td>12/5/13 1:48</td>\n",
       "      <td>...</td>\n",
       "      <td>https://pbs.twimg.com/profile_images/414342229...</td>\n",
       "      <td>0</td>\n",
       "      <td>FFFFFF</td>\n",
       "      <td>Robbie E Responds To Critics After Win Against...</td>\n",
       "      <td>NaN</td>\n",
       "      <td>110964</td>\n",
       "      <td>10/26/15 12:40</td>\n",
       "      <td>6.587300e+17</td>\n",
       "      <td>main; @Kan1shk3</td>\n",
       "      <td>Chennai</td>\n",
       "    </tr>\n",
       "    <tr>\n",
       "      <th>1</th>\n",
       "      <td>815719227</td>\n",
       "      <td>False</td>\n",
       "      <td>finalized</td>\n",
       "      <td>3</td>\n",
       "      <td>10/26/15 23:30</td>\n",
       "      <td>male</td>\n",
       "      <td>1.0000</td>\n",
       "      <td>yes</td>\n",
       "      <td>1.0</td>\n",
       "      <td>10/1/12 13:51</td>\n",
       "      <td>...</td>\n",
       "      <td>https://pbs.twimg.com/profile_images/539604221...</td>\n",
       "      <td>0</td>\n",
       "      <td>C0DEED</td>\n",
       "      <td>ÛÏIt felt like they were my friends and I was...</td>\n",
       "      <td>NaN</td>\n",
       "      <td>7471</td>\n",
       "      <td>10/26/15 12:40</td>\n",
       "      <td>6.587300e+17</td>\n",
       "      <td>NaN</td>\n",
       "      <td>Eastern Time (US &amp; Canada)</td>\n",
       "    </tr>\n",
       "    <tr>\n",
       "      <th>2</th>\n",
       "      <td>815719228</td>\n",
       "      <td>False</td>\n",
       "      <td>finalized</td>\n",
       "      <td>3</td>\n",
       "      <td>10/26/15 23:33</td>\n",
       "      <td>male</td>\n",
       "      <td>0.6625</td>\n",
       "      <td>yes</td>\n",
       "      <td>1.0</td>\n",
       "      <td>11/28/14 11:30</td>\n",
       "      <td>...</td>\n",
       "      <td>https://pbs.twimg.com/profile_images/657330418...</td>\n",
       "      <td>1</td>\n",
       "      <td>C0DEED</td>\n",
       "      <td>i absolutely adore when louis starts the songs...</td>\n",
       "      <td>NaN</td>\n",
       "      <td>5617</td>\n",
       "      <td>10/26/15 12:40</td>\n",
       "      <td>6.587300e+17</td>\n",
       "      <td>clcncl</td>\n",
       "      <td>Belgrade</td>\n",
       "    </tr>\n",
       "    <tr>\n",
       "      <th>3</th>\n",
       "      <td>815719229</td>\n",
       "      <td>False</td>\n",
       "      <td>finalized</td>\n",
       "      <td>3</td>\n",
       "      <td>10/26/15 23:10</td>\n",
       "      <td>male</td>\n",
       "      <td>1.0000</td>\n",
       "      <td>yes</td>\n",
       "      <td>1.0</td>\n",
       "      <td>6/11/09 22:39</td>\n",
       "      <td>...</td>\n",
       "      <td>https://pbs.twimg.com/profile_images/259703936...</td>\n",
       "      <td>0</td>\n",
       "      <td>C0DEED</td>\n",
       "      <td>Hi @JordanSpieth - Looking at the url - do you...</td>\n",
       "      <td>NaN</td>\n",
       "      <td>1693</td>\n",
       "      <td>10/26/15 12:40</td>\n",
       "      <td>6.587300e+17</td>\n",
       "      <td>Palo Alto, CA</td>\n",
       "      <td>Pacific Time (US &amp; Canada)</td>\n",
       "    </tr>\n",
       "    <tr>\n",
       "      <th>4</th>\n",
       "      <td>815719230</td>\n",
       "      <td>False</td>\n",
       "      <td>finalized</td>\n",
       "      <td>3</td>\n",
       "      <td>10/27/15 1:15</td>\n",
       "      <td>female</td>\n",
       "      <td>1.0000</td>\n",
       "      <td>yes</td>\n",
       "      <td>1.0</td>\n",
       "      <td>4/16/14 13:23</td>\n",
       "      <td>...</td>\n",
       "      <td>https://pbs.twimg.com/profile_images/564094871...</td>\n",
       "      <td>0</td>\n",
       "      <td>0</td>\n",
       "      <td>Watching Neighbours on Sky+ catching up with t...</td>\n",
       "      <td>NaN</td>\n",
       "      <td>31462</td>\n",
       "      <td>10/26/15 12:40</td>\n",
       "      <td>6.587300e+17</td>\n",
       "      <td>NaN</td>\n",
       "      <td>NaN</td>\n",
       "    </tr>\n",
       "  </tbody>\n",
       "</table>\n",
       "<p>5 rows × 26 columns</p>\n",
       "</div>"
      ],
      "text/plain": [
       "    _unit_id  _golden _unit_state  _trusted_judgments _last_judgment_at  \\\n",
       "0  815719226    False   finalized                   3    10/26/15 23:24   \n",
       "1  815719227    False   finalized                   3    10/26/15 23:30   \n",
       "2  815719228    False   finalized                   3    10/26/15 23:33   \n",
       "3  815719229    False   finalized                   3    10/26/15 23:10   \n",
       "4  815719230    False   finalized                   3     10/27/15 1:15   \n",
       "\n",
       "   gender  gender:confidence profile_yn  profile_yn:confidence  \\\n",
       "0    male             1.0000        yes                    1.0   \n",
       "1    male             1.0000        yes                    1.0   \n",
       "2    male             0.6625        yes                    1.0   \n",
       "3    male             1.0000        yes                    1.0   \n",
       "4  female             1.0000        yes                    1.0   \n",
       "\n",
       "          created  ...                                       profileimage  \\\n",
       "0    12/5/13 1:48  ...  https://pbs.twimg.com/profile_images/414342229...   \n",
       "1   10/1/12 13:51  ...  https://pbs.twimg.com/profile_images/539604221...   \n",
       "2  11/28/14 11:30  ...  https://pbs.twimg.com/profile_images/657330418...   \n",
       "3   6/11/09 22:39  ...  https://pbs.twimg.com/profile_images/259703936...   \n",
       "4   4/16/14 13:23  ...  https://pbs.twimg.com/profile_images/564094871...   \n",
       "\n",
       "   retweet_count sidebar_color  \\\n",
       "0              0        FFFFFF   \n",
       "1              0        C0DEED   \n",
       "2              1        C0DEED   \n",
       "3              0        C0DEED   \n",
       "4              0             0   \n",
       "\n",
       "                                                text tweet_coord tweet_count  \\\n",
       "0  Robbie E Responds To Critics After Win Against...         NaN      110964   \n",
       "1  ÛÏIt felt like they were my friends and I was...         NaN        7471   \n",
       "2  i absolutely adore when louis starts the songs...         NaN        5617   \n",
       "3  Hi @JordanSpieth - Looking at the url - do you...         NaN        1693   \n",
       "4  Watching Neighbours on Sky+ catching up with t...         NaN       31462   \n",
       "\n",
       "    tweet_created      tweet_id   tweet_location               user_timezone  \n",
       "0  10/26/15 12:40  6.587300e+17  main; @Kan1shk3                     Chennai  \n",
       "1  10/26/15 12:40  6.587300e+17              NaN  Eastern Time (US & Canada)  \n",
       "2  10/26/15 12:40  6.587300e+17           clcncl                    Belgrade  \n",
       "3  10/26/15 12:40  6.587300e+17    Palo Alto, CA  Pacific Time (US & Canada)  \n",
       "4  10/26/15 12:40  6.587300e+17              NaN                         NaN  \n",
       "\n",
       "[5 rows x 26 columns]"
      ]
     },
     "execution_count": 6,
     "metadata": {},
     "output_type": "execute_result"
    }
   ],
   "source": [
    "data.head()"
   ]
  },
  {
   "cell_type": "markdown",
   "metadata": {},
   "source": [
    " This is the DB itself. We present here the first 5 rows. As we can see we have 26 columns for each row."
   ]
  },
  {
   "cell_type": "code",
   "execution_count": 7,
   "metadata": {},
   "outputs": [
    {
     "data": {
      "text/html": [
       "<div>\n",
       "<style scoped>\n",
       "    .dataframe tbody tr th:only-of-type {\n",
       "        vertical-align: middle;\n",
       "    }\n",
       "\n",
       "    .dataframe tbody tr th {\n",
       "        vertical-align: top;\n",
       "    }\n",
       "\n",
       "    .dataframe thead th {\n",
       "        text-align: right;\n",
       "    }\n",
       "</style>\n",
       "<table border=\"1\" class=\"dataframe\">\n",
       "  <thead>\n",
       "    <tr style=\"text-align: right;\">\n",
       "      <th></th>\n",
       "      <th>_unit_id</th>\n",
       "      <th>_trusted_judgments</th>\n",
       "      <th>gender:confidence</th>\n",
       "      <th>profile_yn:confidence</th>\n",
       "      <th>fav_number</th>\n",
       "      <th>retweet_count</th>\n",
       "      <th>tweet_count</th>\n",
       "      <th>tweet_id</th>\n",
       "    </tr>\n",
       "  </thead>\n",
       "  <tbody>\n",
       "    <tr>\n",
       "      <th>count</th>\n",
       "      <td>2.005000e+04</td>\n",
       "      <td>20050.000000</td>\n",
       "      <td>20024.000000</td>\n",
       "      <td>20050.000000</td>\n",
       "      <td>20050.000000</td>\n",
       "      <td>20050.000000</td>\n",
       "      <td>2.005000e+04</td>\n",
       "      <td>2.005000e+04</td>\n",
       "    </tr>\n",
       "    <tr>\n",
       "      <th>mean</th>\n",
       "      <td>8.157294e+08</td>\n",
       "      <td>3.615711</td>\n",
       "      <td>0.882756</td>\n",
       "      <td>0.993221</td>\n",
       "      <td>4382.201646</td>\n",
       "      <td>0.079401</td>\n",
       "      <td>3.892469e+04</td>\n",
       "      <td>6.587350e+17</td>\n",
       "    </tr>\n",
       "    <tr>\n",
       "      <th>std</th>\n",
       "      <td>6.000801e+03</td>\n",
       "      <td>12.331890</td>\n",
       "      <td>0.191403</td>\n",
       "      <td>0.047168</td>\n",
       "      <td>12518.575919</td>\n",
       "      <td>2.649751</td>\n",
       "      <td>1.168371e+05</td>\n",
       "      <td>5.000124e+12</td>\n",
       "    </tr>\n",
       "    <tr>\n",
       "      <th>min</th>\n",
       "      <td>8.157192e+08</td>\n",
       "      <td>3.000000</td>\n",
       "      <td>0.000000</td>\n",
       "      <td>0.627200</td>\n",
       "      <td>0.000000</td>\n",
       "      <td>0.000000</td>\n",
       "      <td>1.000000e+00</td>\n",
       "      <td>6.587300e+17</td>\n",
       "    </tr>\n",
       "    <tr>\n",
       "      <th>25%</th>\n",
       "      <td>8.157243e+08</td>\n",
       "      <td>3.000000</td>\n",
       "      <td>0.677800</td>\n",
       "      <td>1.000000</td>\n",
       "      <td>11.000000</td>\n",
       "      <td>0.000000</td>\n",
       "      <td>2.398000e+03</td>\n",
       "      <td>6.587300e+17</td>\n",
       "    </tr>\n",
       "    <tr>\n",
       "      <th>50%</th>\n",
       "      <td>8.157294e+08</td>\n",
       "      <td>3.000000</td>\n",
       "      <td>1.000000</td>\n",
       "      <td>1.000000</td>\n",
       "      <td>456.000000</td>\n",
       "      <td>0.000000</td>\n",
       "      <td>1.144150e+04</td>\n",
       "      <td>6.587300e+17</td>\n",
       "    </tr>\n",
       "    <tr>\n",
       "      <th>75%</th>\n",
       "      <td>8.157345e+08</td>\n",
       "      <td>3.000000</td>\n",
       "      <td>1.000000</td>\n",
       "      <td>1.000000</td>\n",
       "      <td>3315.500000</td>\n",
       "      <td>0.000000</td>\n",
       "      <td>4.002750e+04</td>\n",
       "      <td>6.587400e+17</td>\n",
       "    </tr>\n",
       "    <tr>\n",
       "      <th>max</th>\n",
       "      <td>8.157580e+08</td>\n",
       "      <td>274.000000</td>\n",
       "      <td>1.000000</td>\n",
       "      <td>1.000000</td>\n",
       "      <td>341621.000000</td>\n",
       "      <td>330.000000</td>\n",
       "      <td>2.680199e+06</td>\n",
       "      <td>6.587400e+17</td>\n",
       "    </tr>\n",
       "  </tbody>\n",
       "</table>\n",
       "</div>"
      ],
      "text/plain": [
       "           _unit_id  _trusted_judgments  gender:confidence  \\\n",
       "count  2.005000e+04        20050.000000       20024.000000   \n",
       "mean   8.157294e+08            3.615711           0.882756   \n",
       "std    6.000801e+03           12.331890           0.191403   \n",
       "min    8.157192e+08            3.000000           0.000000   \n",
       "25%    8.157243e+08            3.000000           0.677800   \n",
       "50%    8.157294e+08            3.000000           1.000000   \n",
       "75%    8.157345e+08            3.000000           1.000000   \n",
       "max    8.157580e+08          274.000000           1.000000   \n",
       "\n",
       "       profile_yn:confidence     fav_number  retweet_count   tweet_count  \\\n",
       "count           20050.000000   20050.000000   20050.000000  2.005000e+04   \n",
       "mean                0.993221    4382.201646       0.079401  3.892469e+04   \n",
       "std                 0.047168   12518.575919       2.649751  1.168371e+05   \n",
       "min                 0.627200       0.000000       0.000000  1.000000e+00   \n",
       "25%                 1.000000      11.000000       0.000000  2.398000e+03   \n",
       "50%                 1.000000     456.000000       0.000000  1.144150e+04   \n",
       "75%                 1.000000    3315.500000       0.000000  4.002750e+04   \n",
       "max                 1.000000  341621.000000     330.000000  2.680199e+06   \n",
       "\n",
       "           tweet_id  \n",
       "count  2.005000e+04  \n",
       "mean   6.587350e+17  \n",
       "std    5.000124e+12  \n",
       "min    6.587300e+17  \n",
       "25%    6.587300e+17  \n",
       "50%    6.587300e+17  \n",
       "75%    6.587400e+17  \n",
       "max    6.587400e+17  "
      ]
     },
     "execution_count": 7,
     "metadata": {},
     "output_type": "execute_result"
    }
   ],
   "source": [
    "data.describe()"
   ]
  },
  {
   "cell_type": "code",
   "execution_count": 8,
   "metadata": {},
   "outputs": [
    {
     "name": "stdout",
     "output_type": "stream",
     "text": [
      "Male most common terms:  58767\n",
      "[('get', 442),\n",
      " ('like', 390),\n",
      " ('go', 315),\n",
      " (\"i'm\", 303),\n",
      " ('one', 293),\n",
      " ('time', 253),\n",
      " ('love', 251),\n",
      " ('make', 241),\n",
      " ('day', 223),\n",
      " ('new', 215),\n",
      " ('know', 201),\n",
      " ('see', 200),\n",
      " ('look', 197),\n",
      " ('peopl', 196),\n",
      " ('good', 188),\n",
      " ('think', 185),\n",
      " ('want', 178),\n",
      " ('need', 171),\n",
      " ('follow', 170),\n",
      " ('2', 168)]\n",
      "================================================================================\n",
      "Female most common terms:  60168\n",
      "[(\"i'm\", 528),\n",
      " ('like', 482),\n",
      " ('get', 457),\n",
      " ('go', 412),\n",
      " ('__', 399),\n",
      " ('love', 392),\n",
      " ('day', 360),\n",
      " ('one', 358),\n",
      " ('make', 335),\n",
      " ('time', 290),\n",
      " ('want', 256),\n",
      " ('peopl', 245),\n",
      " ('know', 232),\n",
      " ('follow', 217),\n",
      " ('look', 217),\n",
      " ('new', 205),\n",
      " ('amp', 203),\n",
      " ('___', 195),\n",
      " ('best', 192),\n",
      " ('got', 190)]\n",
      "================================================================================\n",
      "Brand most common terms:  59302\n",
      "[('weather', 2279),\n",
      " ('get', 1380),\n",
      " ('updat', 1174),\n",
      " ('channel', 1173),\n",
      " ('15', 1169),\n",
      " ('40', 732),\n",
      " ('39', 424),\n",
      " ('new', 243),\n",
      " ('amp', 191),\n",
      " ('like', 186),\n",
      " ('make', 185),\n",
      " ('us', 166),\n",
      " ('look', 164),\n",
      " ('one', 162),\n",
      " ('love', 155),\n",
      " ('see', 145),\n",
      " ('day', 139),\n",
      " ('2', 135),\n",
      " ('time', 134),\n",
      " ('come', 129)]\n"
     ]
    }
   ],
   "source": [
    "dp.data_to_df(data)\n",
    "dp.print_common()\n"
   ]
  },
  {
   "cell_type": "markdown",
   "metadata": {},
   "source": [
    "## Part 2 - Train Models\n",
    "In this part we are training the \"Simple Models\" SVM and Perceptron, and using GridSearchCV to tune up the parameters so we can find the best model.\n",
    "After that we train CNN model with keras library and compare it to the best model we found so far. The best one will be used to predict on the twitts.\n",
    "Also we are training a CNN to predict the gender."
   ]
  },
  {
   "cell_type": "code",
   "execution_count": 9,
   "metadata": {},
   "outputs": [
    {
     "name": "stderr",
     "output_type": "stream",
     "text": [
      "Using TensorFlow backend.\n"
     ]
    },
    {
     "name": "stdout",
     "output_type": "stream",
     "text": [
      "================================================================================\n",
      "TF-IDF Feature Extraction\n",
      "DONE!!!!! total time: 0.404630s\n",
      "================================================================================\n",
      "================================================================================\n",
      "SVM\n",
      "================================================================================\n",
      "Training: \n",
      "SGDClassifier(alpha=0.0001, average=False, class_weight=None,\n",
      "       early_stopping=False, epsilon=0.1, eta0=0.0, fit_intercept=True,\n",
      "       l1_ratio=0.15, learning_rate='optimal', loss='hinge', max_iter=None,\n",
      "       n_iter=None, n_iter_no_change=5, n_jobs=None, penalty='l2',\n",
      "       power_t=0.5, random_state=None, shuffle=True, tol=None,\n",
      "       validation_fraction=0.1, verbose=0, warm_start=False)\n",
      "The training time was: 0.050s\n",
      "The test time was: 0.000s\n",
      "accuracy: 0.564\n",
      "================================================================================\n",
      "Perceptron\n",
      "================================================================================\n",
      "Training: \n",
      "Perceptron(alpha=0.0001, class_weight=None, early_stopping=False, eta0=1.0,\n",
      "      fit_intercept=True, max_iter=None, n_iter=None, n_iter_no_change=5,\n",
      "      n_jobs=None, penalty=None, random_state=0, shuffle=True, tol=None,\n",
      "      validation_fraction=0.1, verbose=0, warm_start=False)\n",
      "The training time was: 0.031s\n",
      "The test time was: 0.000s\n",
      "accuracy: 0.511\n",
      "The best classification for this corpus is: SVM\n",
      "Best parameters: {'vect__stop_words': None}\n",
      "Best score: 0.5502389169100079\n",
      "================================================================================\n",
      "================================================================================\n",
      "TF-IDF feature extraction\n",
      "DONE!!! total time: 0.416270s\n",
      "================================================================================\n",
      "Training:\n",
      "train time: 0.047s\n",
      "test time: 0.000s\n",
      "accuracy:  0.5591825902335457\n",
      "WARNING:tensorflow:From c:\\python37\\lib\\site-packages\\tensorflow\\python\\framework\\op_def_library.py:263: colocate_with (from tensorflow.python.framework.ops) is deprecated and will be removed in a future version.\n",
      "Instructions for updating:\n",
      "Colocations handled automatically by placer.\n",
      "WARNING:tensorflow:From c:\\python37\\lib\\site-packages\\tensorflow\\python\\ops\\math_ops.py:3066: to_int32 (from tensorflow.python.ops.math_ops) is deprecated and will be removed in a future version.\n",
      "Instructions for updating:\n",
      "Use tf.cast instead.\n",
      "Epoch 1/5\n",
      "15068/15068 [==============================] - 1s 68us/step - loss: 0.6205 - acc: 0.6756\n",
      "Epoch 2/5\n",
      "15068/15068 [==============================] - 1s 42us/step - loss: 0.5405 - acc: 0.7118\n",
      "Epoch 3/5\n",
      "15068/15068 [==============================] - 1s 39us/step - loss: 0.5255 - acc: 0.7207\n",
      "Epoch 4/5\n",
      "15068/15068 [==============================] - 1s 38us/step - loss: 0.5156 - acc: 0.7271\n",
      "Epoch 5/5\n",
      "15068/15068 [==============================] - 1s 39us/step - loss: 0.5048 - acc: 0.7341\n",
      "Accuracy: 0.72\n"
     ]
    }
   ],
   "source": [
    "from train_model import TrainModels\n",
    "tm = TrainModels(dp.data_frame)\n",
    "best_model = tm.train_models()"
   ]
  },
  {
   "cell_type": "markdown",
   "metadata": {},
   "source": [
    "As we can see the best model is the CNN (based on keras library) is the most accurate of all the models."
   ]
  },
  {
   "cell_type": "code",
   "execution_count": 13,
   "metadata": {},
   "outputs": [
    {
     "name": "stdout",
     "output_type": "stream",
     "text": [
      "_________________________________________________________________\n",
      "Layer (type)                 Output Shape              Param #   \n",
      "=================================================================\n",
      "dense_1 (Dense)              (None, 6)                 12006     \n",
      "_________________________________________________________________\n",
      "dense_2 (Dense)              (None, 6)                 42        \n",
      "_________________________________________________________________\n",
      "dense_3 (Dense)              (None, 3)                 21        \n",
      "=================================================================\n",
      "Total params: 12,069\n",
      "Trainable params: 12,069\n",
      "Non-trainable params: 0\n",
      "_________________________________________________________________\n"
     ]
    }
   ],
   "source": [
    "best_model.summary()"
   ]
  },
  {
   "cell_type": "markdown",
   "metadata": {},
   "source": [
    "## Part 3 - Get Tweets from twitter"
   ]
  },
  {
   "cell_type": "markdown",
   "metadata": {},
   "source": [
    "#### Here we will collect 15,000 tweets from twitter using the streaming option of the API. We'll save all of them in a json file and will process them. We were asked to get the tweets from the most common location based on the training data, so we'll start by discovering that:"
   ]
  },
  {
   "cell_type": "code",
   "execution_count": 14,
   "metadata": {},
   "outputs": [
    {
     "name": "stdout",
     "output_type": "stream",
     "text": [
      "('London', 126)\n",
      "('United States', 113)\n",
      "('UK', 79)\n",
      "('USA', 76)\n",
      "('Los Angeles, CA', 58)\n"
     ]
    }
   ],
   "source": [
    "    from sklearn.model_selection import train_test_split\n",
    "    from DataPresentation import DataPresentation\n",
    "    \n",
    "    dp = DataPresentation()\n",
    "    data = dp.read_csv(print_graph=False)\n",
    "    \n",
    "    train_data, test_data = train_test_split(data, test_size=0.2)\n",
    "    most_common_countries = dp.find_most_common_country(train_data, 5)\n",
    "    for country in most_common_countries:\n",
    "        print(country)"
   ]
  },
  {
   "cell_type": "markdown",
   "metadata": {},
   "source": [
    "As we can see, London is the most popular location so we will collect tweets from there. We need to get London's geo location in order to apply it as a filter. Londons location can be obtained from this site: http://boundingbox.klokantech.com/\n",
    "We apply London's coordinates as a filter for the streaming object:\n",
    "[-0.510375, 51.28676, 0.334015, 51.691874]"
   ]
  },
  {
   "cell_type": "markdown",
   "metadata": {},
   "source": [
    "After gathering 15,000 tweets from London, we can now parse and analyze them:"
   ]
  },
  {
   "cell_type": "code",
   "execution_count": 15,
   "metadata": {},
   "outputs": [
    {
     "name": "stdout",
     "output_type": "stream",
     "text": [
      "filtered words:\n",
      "1. thank - 923 Times \n",
      "2. get - 861 Times \n",
      "3. day - 848 Times \n",
      "4. one - 780 Times \n",
      "5. london - 779 Times \n",
      "6. like - 759 Times \n",
      "7. good - 744 Times \n",
      "8. love - 728 Times \n",
      "9. go - 705 Times \n",
      "10. peopl - 651 Times \n",
      "11. amp - 649 Times \n",
      "12. see - 628 Times \n",
      "13. look - 625 Times \n",
      "14. think - 551 Times \n",
      "15. time - 549 Times \n",
      "16. today - 543 Times \n",
      "17. im - 535 Times \n",
      "18. know - 532 Times \n",
      "19. work - 531 Times \n",
      "20. morn - 527 Times \n",
      "\n",
      "unfiltered words:\n",
      "1. . - 16576 Times \n",
      "2. the - 9362 Times \n",
      "3. to - 6190 Times \n",
      "4. , - 6165 Times \n",
      "5. a - 5883 Times \n",
      "6. ! - 4763 Times \n",
      "7. and - 4209 Times \n",
      "8. i - 4137 Times \n",
      "9. of - 4021 Times \n",
      "10. you - 3882 Times \n",
      "11. in - 3484 Times \n",
      "12. is - 3277 Times \n",
      "13. for - 3191 Times \n",
      "14. ? - 3024 Times \n",
      "15. it - 2922 Times \n",
      "16. thi - 2487 Times \n",
      "17. on - 2268 Times \n",
      "18. that - 2137 Times \n",
      "19. have - 1797 Times \n",
      "20. be - 1657 Times \n"
     ]
    }
   ],
   "source": [
    "tweets_location = '.\\\\tweets_from_stream.json'\n",
    "# We can decide whether to filter out stopwords and punctuation marks.\n",
    "\n",
    "parsed_tweets, tweet_distribution = dp.process_tweets(tweets_location, filter_words=True)\n",
    "most_common = dp.get_most_common_words(tweet_distribution)\n",
    "\n",
    "print(\"filtered words:\")\n",
    "for i in range(20):\n",
    "    print(f'{i+1}. {most_common[i][0]} - {most_common[i][1]} Times ')\n",
    "\n",
    "    \n",
    "print(\"\\nunfiltered words:\")\n",
    "parsed_tweets, tweet_distribution = dp.process_tweets(tweets_location, filter_words=False)\n",
    "most_common = dp.get_most_common_words(tweet_distribution)\n",
    "for i in range(20):\n",
    "    print(f'{i+1}. {most_common[i][0]} - {most_common[i][1]} Times ')"
   ]
  },
  {
   "cell_type": "markdown",
   "metadata": {},
   "source": [
    "Notice that if we do not filter the words, all the top 20 words are stopword or punctuation marks.\n",
    "There is a lot of similarity between the streamed tweets and the training set common words. However, not an exact corelation."
   ]
  },
  {
   "cell_type": "markdown",
   "metadata": {},
   "source": [
    "# Part 4: Classifying the streamed tweets"
   ]
  },
  {
   "cell_type": "markdown",
   "metadata": {},
   "source": [
    "### As shown in part 2, the best classifier was the DNN classifier from Keras. We will load it and use that one on the new tweets:"
   ]
  },
  {
   "cell_type": "code",
   "execution_count": 17,
   "metadata": {},
   "outputs": [
    {
     "ename": "KeyError",
     "evalue": "'male'",
     "output_type": "error",
     "traceback": [
      "\u001b[1;31m---------------------------------------------------------------------------\u001b[0m",
      "\u001b[1;31mKeyError\u001b[0m                                  Traceback (most recent call last)",
      "\u001b[1;32m<ipython-input-17-93e490ae1b7d>\u001b[0m in \u001b[0;36m<module>\u001b[1;34m\u001b[0m\n\u001b[0;32m     13\u001b[0m         \u001b[0mres\u001b[0m\u001b[1;33m.\u001b[0m\u001b[0mwrite\u001b[0m\u001b[1;33m(\u001b[0m\u001b[1;34mf'{parsed_tweets[idx]}, {predictions[idx]}, {idx}\\n'\u001b[0m\u001b[1;33m)\u001b[0m\u001b[1;33m\u001b[0m\u001b[1;33m\u001b[0m\u001b[0m\n\u001b[0;32m     14\u001b[0m \u001b[1;33m\u001b[0m\u001b[0m\n\u001b[1;32m---> 15\u001b[1;33m \u001b[0mresults\u001b[0m \u001b[1;33m=\u001b[0m \u001b[0mdp\u001b[0m\u001b[1;33m.\u001b[0m\u001b[0maggregate_predictions\u001b[0m\u001b[1;33m(\u001b[0m\u001b[0mpredictions\u001b[0m\u001b[1;33m)\u001b[0m\u001b[1;33m\u001b[0m\u001b[1;33m\u001b[0m\u001b[0m\n\u001b[0m\u001b[0;32m     16\u001b[0m \u001b[1;32mfor\u001b[0m \u001b[0mres\u001b[0m\u001b[1;33m,\u001b[0m \u001b[0mnum\u001b[0m \u001b[1;32min\u001b[0m \u001b[0mresults\u001b[0m\u001b[1;33m.\u001b[0m\u001b[0mitems\u001b[0m\u001b[1;33m(\u001b[0m\u001b[1;33m)\u001b[0m\u001b[1;33m:\u001b[0m\u001b[1;33m\u001b[0m\u001b[1;33m\u001b[0m\u001b[0m\n\u001b[0;32m     17\u001b[0m     \u001b[0mprint\u001b[0m\u001b[1;33m(\u001b[0m\u001b[1;34mf'Number of {res}s: {num}'\u001b[0m\u001b[1;33m)\u001b[0m\u001b[1;33m\u001b[0m\u001b[1;33m\u001b[0m\u001b[0m\n",
      "\u001b[1;32m~\\IdeaProjects\\Twitter_Project\\DataPresentation.py\u001b[0m in \u001b[0;36maggregate_predictions\u001b[1;34m(predictions)\u001b[0m\n\u001b[0;32m    244\u001b[0m \u001b[1;33m\u001b[0m\u001b[0m\n\u001b[0;32m    245\u001b[0m         \u001b[1;32mfor\u001b[0m \u001b[0mpred\u001b[0m \u001b[1;32min\u001b[0m \u001b[0mpredictions\u001b[0m\u001b[1;33m:\u001b[0m\u001b[1;33m\u001b[0m\u001b[1;33m\u001b[0m\u001b[0m\n\u001b[1;32m--> 246\u001b[1;33m             \u001b[0mresults\u001b[0m\u001b[1;33m[\u001b[0m\u001b[0mpred\u001b[0m\u001b[1;33m]\u001b[0m \u001b[1;33m+=\u001b[0m \u001b[1;36m1\u001b[0m\u001b[1;33m\u001b[0m\u001b[1;33m\u001b[0m\u001b[0m\n\u001b[0m\u001b[0;32m    247\u001b[0m \u001b[1;33m\u001b[0m\u001b[0m\n\u001b[0;32m    248\u001b[0m         \u001b[1;32mreturn\u001b[0m \u001b[0mresults\u001b[0m\u001b[1;33m\u001b[0m\u001b[1;33m\u001b[0m\u001b[0m\n",
      "\u001b[1;31mKeyError\u001b[0m: 'male'"
     ]
    }
   ],
   "source": [
    "from keras.models import load_model\n",
    "\n",
    "model = load_model('.\\\\best_model.h5')\n",
    "results_file = '.\\\\prediction_results.csv'\n",
    "with open(results_file, 'w') as res:\n",
    "    header = \"tweet,prediction,confidence\\n\"\n",
    "    res.write(header)\n",
    "\n",
    "predictions = dp.predict_gender(model, parsed_tweets, tm.tokenizer, tm.lb_make)\n",
    "\n",
    "with open(results_file, 'a') as res:\n",
    "    for idx in range(len(predictions)):\n",
    "        res.write(f'{parsed_tweets[idx]}, {predictions[idx]}, {idx}\\n')\n",
    "\n",
    "results = dp.aggregate_predictions(predictions)\n",
    "for res, num in results.items():\n",
    "    print(f'Number of {res}s: {num}')\n"
   ]
  },
  {
   "cell_type": "code",
   "execution_count": null,
   "metadata": {},
   "outputs": [],
   "source": []
  }
 ],
 "metadata": {
  "kernelspec": {
   "display_name": "Python 3",
   "language": "python",
   "name": "python3"
  },
  "language_info": {
   "codemirror_mode": {
    "name": "ipython",
    "version": 3
   },
   "file_extension": ".py",
   "mimetype": "text/x-python",
   "name": "python",
   "nbconvert_exporter": "python",
   "pygments_lexer": "ipython3",
   "version": "3.7.2"
  }
 },
 "nbformat": 4,
 "nbformat_minor": 2
}
